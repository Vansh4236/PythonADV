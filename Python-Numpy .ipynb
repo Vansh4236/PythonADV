{
 "cells": [
  {
   "cell_type": "markdown",
   "id": "1aa8466a",
   "metadata": {},
   "source": [
    "# NumPy:\n",
    "--> NumPy stands for Numerical Python.\n",
    "\n",
    "--> NumPy is a Python library used for working with arrays.\n",
    "\n",
    "--> NumPy performs Numerical_Operations\n",
    "\n",
    "# Applications:\n",
    "1) Linear Algebra\n",
    "\n",
    "2) Statistics\n",
    "\n",
    "3) Probability\n",
    "\n",
    "4) Trignometric Operations(sin, cos, tan .....)\n",
    "\n",
    "5) Matrix Manipulation\n",
    "\n",
    "6) Logarithmic Operations"
   ]
  },
  {
   "cell_type": "markdown",
   "id": "336ec652",
   "metadata": {
    "jp-MarkdownHeadingCollapsed": true
   },
   "source": [
    "# Array:\n",
    "--> It is a collection of Homogeneous Datatypes\n",
    "\n",
    "--> The array object in NumPy is called ndarray\n",
    "\n",
    "ndarray ----> n-dimentional array\n",
    "\n",
    "--> Arrays are faster than list\n",
    "\n",
    "--> Numpy is written in C/C++ language(Partially writtened in Python)\n",
    "\n",
    "--> Arrays can be created with the help of tuples and lists\n",
    "\n",
    "--> Supported Datatypes:- int,float,complex,str"
   ]
  },
  {
   "cell_type": "markdown",
   "id": "2712683e",
   "metadata": {},
   "source": [
    "# Why is NumPy Faster Than Lists?\n",
    "\n",
    "--> NumPy arrays are stored at one continuous place in memory unlike lists, so processes can access and manipulate them very efficiently.\n",
    "\n",
    "--> This behavior is called locality of reference in computer science.\n",
    "\n",
    "--> This is the main reason why NumPy is faster than lists. Also it is optimized to work with latest CPU architectures."
   ]
  },
  {
   "cell_type": "markdown",
   "id": "9a2cfaba",
   "metadata": {},
   "source": [
    "# Difference Between List and Array in Python:\n",
    "\n",
    "** List **\n",
    "1) List is used to collect items that usually consist of elements of multiple data types.\n",
    "2) List cannot manage arithmetic operations.\n",
    "3) It consumes a larger memory.\n",
    "4) It consists of elements that belong to the different data types.\n",
    "5) When it comes to flexibility, the list is perfect as it allows easy modification of data.\n",
    "6) In a list, the complete list can be accessed without any specific looping.\n",
    "7) It favors a shorter sequence of data.\n",
    "\n",
    "\n",
    "** Array **\n",
    "1) An array is also a vital component that collects several items of the same data type.\n",
    "2) Array can manage arithmetic operations.\n",
    "3) It consumes less memory than a list.\n",
    "4) It consists of elements that belong to the same data type.\n",
    "5) When it comes to flexibility, the array is not suitable as it does not allow easy modification of data.\n",
    "6) In an array, a loop is mandatory to access the components of the array.\n",
    "7) It favors a longer sequence of data."
   ]
  },
  {
   "cell_type": "markdown",
   "id": "d8a59cc3",
   "metadata": {},
   "source": [
    "## How to Import Numpy:"
   ]
  },
  {
   "cell_type": "code",
   "execution_count": 7,
   "id": "a9d4d936",
   "metadata": {},
   "outputs": [],
   "source": [
    "import numpy as np"
   ]
  },
  {
   "cell_type": "markdown",
   "id": "deb905a8",
   "metadata": {},
   "source": [
    "## Creating Numpy Arrays"
   ]
  },
  {
   "cell_type": "code",
   "execution_count": 2,
   "id": "eb6ac929",
   "metadata": {},
   "outputs": [
    {
     "name": "stdout",
     "output_type": "stream",
     "text": [
      "<class 'numpy.ndarray'>\n"
     ]
    },
    {
     "data": {
      "text/plain": [
       "array(['1', '23.45', 'advik', '(11+11j)'], dtype='<U64')"
      ]
     },
     "execution_count": 2,
     "metadata": {},
     "output_type": "execute_result"
    }
   ],
   "source": [
    "arr=np.array([1,23.45,'advik',11+11j])\n",
    "print(type(arr))\n",
    "arr"
   ]
  },
  {
   "cell_type": "markdown",
   "id": "7a790b1b",
   "metadata": {},
   "source": [
    "## dtype='<U64'\n",
    "\n",
    "Every nd-array has an associated data type (dtype) object.\n",
    "This data type object (dtype) informs us about the layout of the array."
   ]
  },
  {
   "cell_type": "markdown",
   "id": "ad99802c",
   "metadata": {},
   "source": [
    "## Change DataTypes:\n",
    "\n",
    "- int --> float\n",
    "- float --> int\n",
    "- int,float --> complex\n",
    "- complex --> int & float is not possible"
   ]
  },
  {
   "cell_type": "markdown",
   "id": "8411addd",
   "metadata": {},
   "source": [
    "## int-->float"
   ]
  },
  {
   "cell_type": "code",
   "execution_count": 3,
   "id": "53e40394",
   "metadata": {},
   "outputs": [
    {
     "data": {
      "text/plain": [
       "array([1., 2., 3.])"
      ]
     },
     "execution_count": 3,
     "metadata": {},
     "output_type": "execute_result"
    }
   ],
   "source": [
    "import numpy as np\n",
    "li=[1,2,3]\n",
    "arr=np.array(li,dtype=float)\n",
    "arr "
   ]
  },
  {
   "cell_type": "markdown",
   "id": "9c683d1a",
   "metadata": {},
   "source": [
    "## int-->complex"
   ]
  },
  {
   "cell_type": "code",
   "execution_count": 4,
   "id": "2ceeff9d",
   "metadata": {},
   "outputs": [
    {
     "data": {
      "text/plain": [
       "array([1.+0.j, 2.+0.j, 3.+0.j])"
      ]
     },
     "execution_count": 4,
     "metadata": {},
     "output_type": "execute_result"
    }
   ],
   "source": [
    "li=[1,2,3]\n",
    "arr=np.array(li,dtype=complex)\n",
    "arr"
   ]
  },
  {
   "cell_type": "markdown",
   "id": "8d9d27d3",
   "metadata": {},
   "source": [
    "## float-->int"
   ]
  },
  {
   "cell_type": "code",
   "execution_count": 5,
   "id": "d7d05ca0",
   "metadata": {},
   "outputs": [
    {
     "data": {
      "text/plain": [
       "array([1, 3, 5])"
      ]
     },
     "execution_count": 5,
     "metadata": {},
     "output_type": "execute_result"
    }
   ],
   "source": [
    "li=[1.1,3.3,5.5]\n",
    "arr=np.array(li,dtype=int)\n",
    "arr"
   ]
  },
  {
   "cell_type": "markdown",
   "id": "99d95aa6",
   "metadata": {},
   "source": [
    "## float-->complex"
   ]
  },
  {
   "cell_type": "code",
   "execution_count": 6,
   "id": "776f5673",
   "metadata": {},
   "outputs": [
    {
     "data": {
      "text/plain": [
       "array([1.1+0.j, 3.3+0.j, 5.5+0.j])"
      ]
     },
     "execution_count": 6,
     "metadata": {},
     "output_type": "execute_result"
    }
   ],
   "source": [
    "li=[1.1,3.3,5.5]\n",
    "arr=np.array(li,dtype=complex)\n",
    "arr"
   ]
  },
  {
   "cell_type": "markdown",
   "id": "29828016",
   "metadata": {},
   "source": [
    "## complex-->int"
   ]
  },
  {
   "cell_type": "code",
   "execution_count": 7,
   "id": "29d26969",
   "metadata": {},
   "outputs": [
    {
     "ename": "TypeError",
     "evalue": "int() argument must be a string, a bytes-like object or a real number, not 'complex'",
     "output_type": "error",
     "traceback": [
      "\u001b[1;31m---------------------------------------------------------------------------\u001b[0m",
      "\u001b[1;31mTypeError\u001b[0m                                 Traceback (most recent call last)",
      "Cell \u001b[1;32mIn[7], line 2\u001b[0m\n\u001b[0;32m      1\u001b[0m li\u001b[38;5;241m=\u001b[39m[\u001b[38;5;241m1.1\u001b[39m\u001b[38;5;241m+\u001b[39m\u001b[38;5;241m0.\u001b[39mj, \u001b[38;5;241m3.3\u001b[39m\u001b[38;5;241m+\u001b[39m\u001b[38;5;241m0.\u001b[39mj, \u001b[38;5;241m5.5\u001b[39m\u001b[38;5;241m+\u001b[39m\u001b[38;5;241m0.\u001b[39mj]\n\u001b[1;32m----> 2\u001b[0m arr\u001b[38;5;241m=\u001b[39mnp\u001b[38;5;241m.\u001b[39marray(li,dtype\u001b[38;5;241m=\u001b[39m\u001b[38;5;28mint\u001b[39m)\n\u001b[0;32m      3\u001b[0m arr\n",
      "\u001b[1;31mTypeError\u001b[0m: int() argument must be a string, a bytes-like object or a real number, not 'complex'"
     ]
    }
   ],
   "source": [
    "li=[1.1+0.j, 3.3+0.j, 5.5+0.j]\n",
    "arr=np.array(li,dtype=int)\n",
    "arr"
   ]
  },
  {
   "cell_type": "markdown",
   "id": "5a674f06",
   "metadata": {},
   "source": [
    "## complex-->float"
   ]
  },
  {
   "cell_type": "code",
   "execution_count": null,
   "id": "f9ab0a47",
   "metadata": {},
   "outputs": [],
   "source": [
    "li=[1.1+0.j, 3.3+0.j, 5.5+0.j]\n",
    "arr=np.array(li,dtype=float)\n",
    "arr"
   ]
  },
  {
   "cell_type": "markdown",
   "id": "48bd8560",
   "metadata": {},
   "source": [
    "## Dimensions in Array:"
   ]
  },
  {
   "cell_type": "markdown",
   "id": "2bc8d4d2",
   "metadata": {},
   "source": [
    "## 1) 0-D Array:\n",
    "- It is in round bracket(value)\n",
    "\n",
    "- 0-D arrays are the elements in an array. Each value in an array is a 0-D array."
   ]
  },
  {
   "cell_type": "code",
   "execution_count": null,
   "id": "602bfc63",
   "metadata": {},
   "outputs": [],
   "source": [
    "arr=np.array(100)\n",
    "print(\"Array:\",arr)\n",
    "print(\"Dimension of Array:\",arr.ndim)   # ndim means= no.of dimensions"
   ]
  },
  {
   "cell_type": "markdown",
   "id": "e4dc7112",
   "metadata": {},
   "source": [
    "## 2) 1-D Array (uni-dimensional):\n",
    "\n",
    "- It is a collection of 0-Dimensional Arrays.\n",
    "\n",
    "- These are the most common and basic arrays."
   ]
  },
  {
   "cell_type": "code",
   "execution_count": null,
   "id": "aa799200",
   "metadata": {},
   "outputs": [],
   "source": [
    "arr=np.array([100])\n",
    "print(\"Array:\",arr)\n",
    "print(\"Dimension of Array:\",arr.ndim)"
   ]
  },
  {
   "cell_type": "code",
   "execution_count": null,
   "id": "c6694b96",
   "metadata": {},
   "outputs": [],
   "source": [
    "arr=np.array([100],float)\n",
    "print(\"Array:\",arr)\n",
    "print(\"Dimension of Array\",arr.ndim)"
   ]
  },
  {
   "cell_type": "code",
   "execution_count": 28,
   "id": "fc9a485d",
   "metadata": {},
   "outputs": [
    {
     "name": "stdout",
     "output_type": "stream",
     "text": [
      "Array: [100 200 300]\n",
      "Dimension of Array: 1\n"
     ]
    }
   ],
   "source": [
    "arr=np.array([100,200,300])\n",
    "print(\"Array:\",arr)\n",
    "print(\"Dimension of Array:\",arr.ndim)\n"
   ]
  },
  {
   "cell_type": "markdown",
   "id": "c379c508",
   "metadata": {},
   "source": [
    "## 3) 2-D Array:\n",
    "\n",
    "- It is a collection of 1-Dimensional Arrays."
   ]
  },
  {
   "cell_type": "code",
   "execution_count": 32,
   "id": "c8d139fb",
   "metadata": {},
   "outputs": [
    {
     "name": "stdout",
     "output_type": "stream",
     "text": [
      "Array:\n",
      "[[1 2]\n",
      " [3 4]\n",
      " [5 6]]\n",
      "Dimension of Array:2\n",
      "Shape of Array:(3, 2)\n"
     ]
    }
   ],
   "source": [
    "arr=np.array([[1,2],[3,4],[5,6]])\n",
    "print(f\"Array:\\n{arr}\")\n",
    "print(f\"Dimension of Array:{arr.ndim}\")\n",
    "print(f\"Shape of Array:{arr.shape}\")"
   ]
  },
  {
   "cell_type": "code",
   "execution_count": 7,
   "id": "77256ee2",
   "metadata": {},
   "outputs": [
    {
     "ename": "ValueError",
     "evalue": "setting an array element with a sequence. The requested array has an inhomogeneous shape after 1 dimensions. The detected shape was (2,) + inhomogeneous part.",
     "output_type": "error",
     "traceback": [
      "\u001b[1;31m---------------------------------------------------------------------------\u001b[0m",
      "\u001b[1;31mValueError\u001b[0m                                Traceback (most recent call last)",
      "Cell \u001b[1;32mIn[7], line 1\u001b[0m\n\u001b[1;32m----> 1\u001b[0m arr\u001b[38;5;241m=\u001b[39mnp\u001b[38;5;241m.\u001b[39marray([[\u001b[38;5;241m1\u001b[39m,\u001b[38;5;241m2\u001b[39m],[\u001b[38;5;241m3\u001b[39m]])\n\u001b[0;32m      2\u001b[0m \u001b[38;5;28mprint\u001b[39m(\u001b[38;5;124mf\u001b[39m\u001b[38;5;124m\"\u001b[39m\u001b[38;5;124mArray:\u001b[39m\u001b[38;5;130;01m\\n\u001b[39;00m\u001b[38;5;132;01m{\u001b[39;00marr\u001b[38;5;132;01m}\u001b[39;00m\u001b[38;5;124m\"\u001b[39m)\n\u001b[0;32m      3\u001b[0m \u001b[38;5;28mprint\u001b[39m(\u001b[38;5;124mf\u001b[39m\u001b[38;5;124m\"\u001b[39m\u001b[38;5;124mDimension of Array:\u001b[39m\u001b[38;5;132;01m{\u001b[39;00marr\u001b[38;5;241m.\u001b[39mndim\u001b[38;5;132;01m}\u001b[39;00m\u001b[38;5;124m\"\u001b[39m)\n",
      "\u001b[1;31mValueError\u001b[0m: setting an array element with a sequence. The requested array has an inhomogeneous shape after 1 dimensions. The detected shape was (2,) + inhomogeneous part."
     ]
    }
   ],
   "source": [
    "arr=np.array([[1,2],[3]])\n",
    "print(f\"Array:\\n{arr}\")\n",
    "print(f\"Dimension of Array:{arr.ndim}\")\n",
    "print(f\"Shape of Array:{arr.shape}\")"
   ]
  },
  {
   "cell_type": "markdown",
   "id": "32ade89d",
   "metadata": {},
   "source": [
    "## 4) 3-D Array:\n",
    "\n",
    "- It is a collection of 2-Dimensional Arrays.\n",
    "\n",
    "- These are often used to represent a 3rd order tensor."
   ]
  },
  {
   "cell_type": "code",
   "execution_count": 30,
   "id": "ec05e044",
   "metadata": {},
   "outputs": [
    {
     "name": "stdout",
     "output_type": "stream",
     "text": [
      "Array:\n",
      "[[[1 2]\n",
      "  [3 4]\n",
      "  [5 6]]]\n",
      "Dimension of Array:3\n",
      "Shape of Array:(1, 3, 2)\n"
     ]
    }
   ],
   "source": [
    "arr=np.array([[[1,2],[3,4],[5,6]]])\n",
    "print(f\"Array:\\n{arr}\")\n",
    "print(f\"Dimension of Array:{arr.ndim}\")\n",
    "print(f\"Shape of Array:{arr.shape}\")"
   ]
  },
  {
   "cell_type": "code",
   "execution_count": null,
   "id": "b07325cd",
   "metadata": {},
   "outputs": [],
   "source": [
    "arr=np.array([[[1,2],[3,4],[5,6]],[[1,2],[3,4],[5,6]]])\n",
    "print(f\"Array:\\n{arr}\")\n",
    "print(f\"Dimension of Array:{arr.ndim}\")\n",
    "print(f\"Shape of Array:{arr.shape}\")"
   ]
  },
  {
   "cell_type": "markdown",
   "id": "03193933",
   "metadata": {},
   "source": [
    "## Indexing and Slicing:"
   ]
  },
  {
   "cell_type": "code",
   "execution_count": 34,
   "id": "f7e5864c",
   "metadata": {},
   "outputs": [
    {
     "data": {
      "text/plain": [
       "3"
      ]
     },
     "execution_count": 34,
     "metadata": {},
     "output_type": "execute_result"
    }
   ],
   "source": [
    "arr=np.array([1,2,3,4,5])\n",
    "arr[2]"
   ]
  },
  {
   "cell_type": "code",
   "execution_count": 38,
   "id": "bcdd7d40",
   "metadata": {},
   "outputs": [
    {
     "data": {
      "text/plain": [
       "array([2, 3])"
      ]
     },
     "execution_count": 38,
     "metadata": {},
     "output_type": "execute_result"
    }
   ],
   "source": [
    "arr=np.array([1,2,3,4,5])\n",
    "arr[1:3]"
   ]
  },
  {
   "cell_type": "code",
   "execution_count": null,
   "id": "a30822fa",
   "metadata": {},
   "outputs": [],
   "source": [
    "arr=np.array([[1,2,3,4,5,6,7,8,9,10],\n",
    "             [10,20,30,40,50,60,70,80,90,100],\n",
    "             [100,200,300,400,500,600,700,800,900,1000]])\n",
    "arr"
   ]
  },
  {
   "cell_type": "code",
   "execution_count": 1,
   "id": "f3c87328",
   "metadata": {},
   "outputs": [
    {
     "ename": "NameError",
     "evalue": "name 'arr' is not defined",
     "output_type": "error",
     "traceback": [
      "\u001b[1;31m---------------------------------------------------------------------------\u001b[0m",
      "\u001b[1;31mNameError\u001b[0m                                 Traceback (most recent call last)",
      "Cell \u001b[1;32mIn[1], line 1\u001b[0m\n\u001b[1;32m----> 1\u001b[0m arr[\u001b[38;5;241m1\u001b[39m:\u001b[38;5;241m2\u001b[39m,\u001b[38;5;241m2\u001b[39m:\u001b[38;5;241m4\u001b[39m]\n",
      "\u001b[1;31mNameError\u001b[0m: name 'arr' is not defined"
     ]
    }
   ],
   "source": [
    "arr[1:2,2:4]"
   ]
  },
  {
   "cell_type": "code",
   "execution_count": null,
   "id": "13336e02",
   "metadata": {},
   "outputs": [],
   "source": [
    "arr[1:,2:4]"
   ]
  },
  {
   "cell_type": "markdown",
   "id": "9ff3abd1",
   "metadata": {},
   "source": [
    "# NumPy Functions:"
   ]
  },
  {
   "cell_type": "markdown",
   "id": "01d205b2",
   "metadata": {},
   "source": [
    "## Convert to n-D Array:"
   ]
  },
  {
   "cell_type": "code",
   "execution_count": 9,
   "id": "4587cd43",
   "metadata": {},
   "outputs": [
    {
     "name": "stdout",
     "output_type": "stream",
     "text": [
      "Array: [1 2 3]\n",
      "Dimension of Array: 1\n",
      "Length of Array: 3\n",
      "Shape of Array: (3,)\n"
     ]
    }
   ],
   "source": [
    "arr=np.array([1,2,3])\n",
    "print(\"Array:\",arr)\n",
    "print(\"Dimension of Array:\",arr.ndim)\n",
    "print(\"Length of Array:\",len(arr))\n",
    "print(\"Shape of Array:\",arr.shape)"
   ]
  },
  {
   "cell_type": "code",
   "execution_count": 11,
   "id": "9d3179c9",
   "metadata": {},
   "outputs": [
    {
     "name": "stdout",
     "output_type": "stream",
     "text": [
      "Array: [[1 2 3]]\n",
      "Dimension of Array: 2\n",
      "Length of Array: 1\n",
      "Shape of Array: (1, 3)\n"
     ]
    }
   ],
   "source": [
    "arr=np.array([1,2,3],ndmin=2)\n",
    "print(\"Array:\",arr)\n",
    "print(\"Dimension of Array:\",arr.ndim)\n",
    "print(\"Length of Array:\",len(arr))\n",
    "print(\"Shape of Array:\",arr.shape)"
   ]
  },
  {
   "cell_type": "markdown",
   "id": "6499261a",
   "metadata": {},
   "source": [
    "## 1) reshape(): Reshaping means changing the shape of an array.\n",
    "\n",
    "- The shape of an array is the number of elements in each dimension.\n",
    "\n",
    "- By reshaping we can add or remove dimensions or change number of elements in each dimension."
   ]
  },
  {
   "cell_type": "code",
   "execution_count": 44,
   "id": "f53d1d9e",
   "metadata": {},
   "outputs": [
    {
     "name": "stdout",
     "output_type": "stream",
     "text": [
      "Array: [1 2 3 4]\n",
      "Dimension of Array: 1\n",
      "Length of Array: 4\n",
      "Shape of Array: (4,)\n",
      "Reshape of Array: \n",
      "[[1 2]\n",
      " [3 4]]\n"
     ]
    }
   ],
   "source": [
    "arr=np.array([1,2,3,4])\n",
    "print(f\"Array: {arr}\")\n",
    "print(f\"Dimension of Array: {arr.ndim}\")\n",
    "print(f\"Length of Array: {len(arr)}\")\n",
    "print(f\"Shape of Array: {arr.shape}\")\n",
    "print(f\"Reshape of Array: \\n{arr.reshape(2,2)}\")"
   ]
  },
  {
   "cell_type": "code",
   "execution_count": 46,
   "id": "a48ee0c0",
   "metadata": {},
   "outputs": [
    {
     "name": "stdout",
     "output_type": "stream",
     "text": [
      "Array:[1 2 3 4 5 6]\n",
      "Number of Dimensions: 1\n",
      "Length of Array: 6\n",
      "Shape: (6,)\n",
      "Reshaped Array:\n",
      "[[1 2]\n",
      " [3 4]\n",
      " [5 6]]\n"
     ]
    }
   ],
   "source": [
    "arr=np.array([1,2,3,4,5,6])\n",
    "print(f\"Array:{arr}\")\n",
    "print(f\"Number of Dimensions: {arr.ndim}\")\n",
    "print(f\"Length of Array: {len(arr)}\")\n",
    "print(f\"Shape: {arr.shape}\")\n",
    "print(f\"Reshaped Array:\\n{arr.reshape(3,2)}\")"
   ]
  },
  {
   "cell_type": "markdown",
   "id": "2d9bc86b",
   "metadata": {},
   "source": [
    "## 1-D to 3-D Conversion using reshape:"
   ]
  },
  {
   "cell_type": "code",
   "execution_count": 48,
   "id": "cea82ebe",
   "metadata": {},
   "outputs": [
    {
     "name": "stdout",
     "output_type": "stream",
     "text": [
      "Array: [1 2 3 4 5 6 7 8 9 0]\n",
      "Dimension of Array: 1\n",
      "Length of Array: 10\n",
      "Shape of Array: (10,)\n",
      "Reshape of Array:\n",
      " [[[1 2 3 4 5]\n",
      "  [6 7 8 9 0]]]\n"
     ]
    }
   ],
   "source": [
    "arr=np.array([1,2,3,4,5,6,7,8,9,0])\n",
    "print(\"Array:\",arr)\n",
    "print(\"Dimension of Array:\",arr.ndim)\n",
    "print(\"Length of Array:\",len(arr))\n",
    "print(\"Shape of Array:\",arr.shape)\n",
    "print(\"Reshape of Array:\\n\",arr.reshape(1,2,5))"
   ]
  },
  {
   "cell_type": "markdown",
   "id": "96871836",
   "metadata": {},
   "source": [
    "## Accessing elements by 'for loop':"
   ]
  },
  {
   "cell_type": "code",
   "execution_count": 13,
   "id": "da60449d",
   "metadata": {},
   "outputs": [
    {
     "name": "stdout",
     "output_type": "stream",
     "text": [
      "Elements in Array: [1 2]\n",
      "Elements in Array: [3 4]\n"
     ]
    }
   ],
   "source": [
    "arr=np.array([[1,2],[3,4]])\n",
    "for i in arr:\n",
    "    print(\"Elements in Array:\",i)"
   ]
  },
  {
   "cell_type": "code",
   "execution_count": 15,
   "id": "539a270c",
   "metadata": {},
   "outputs": [
    {
     "name": "stdout",
     "output_type": "stream",
     "text": [
      "Elements in Array: 1\n",
      "Elements in Array: 2\n",
      "Elements in Array: 3\n",
      "Elements in Array: 4\n"
     ]
    }
   ],
   "source": [
    "arr=np.array([[1,2],[3,4]])\n",
    "for i in arr:\n",
    "    for j in i:\n",
    "        print(\"Elements in Array:\",j)"
   ]
  },
  {
   "cell_type": "markdown",
   "id": "c78af8cd",
   "metadata": {},
   "source": [
    "## 2) np.nditer(): The function nditer() is a helping function that can be used from very basic to very advanced iterations"
   ]
  },
  {
   "cell_type": "code",
   "execution_count": 54,
   "id": "a9ccba8b",
   "metadata": {},
   "outputs": [
    {
     "name": "stdout",
     "output_type": "stream",
     "text": [
      "Elements in Array: 1\n",
      "Elements in Array: 2\n",
      "Elements in Array: 3\n",
      "Elements in Array: 4\n"
     ]
    }
   ],
   "source": [
    "arr=np.array([1,2,3,4])\n",
    "for i in np.nditer(arr):\n",
    "    print(\"Elements in Array:\",i)"
   ]
  },
  {
   "cell_type": "code",
   "execution_count": 79,
   "id": "e0891b89",
   "metadata": {},
   "outputs": [
    {
     "data": {
      "text/plain": [
       "<numpy.nditer at 0x29405981430>"
      ]
     },
     "execution_count": 79,
     "metadata": {},
     "output_type": "execute_result"
    }
   ],
   "source": [
    "arr=np.array([1,2,3])\n",
    "a=np.nditer(arr)\n",
    "a"
   ]
  },
  {
   "cell_type": "code",
   "execution_count": 81,
   "id": "5b835166",
   "metadata": {},
   "outputs": [
    {
     "data": {
      "text/plain": [
       "array(1)"
      ]
     },
     "execution_count": 81,
     "metadata": {},
     "output_type": "execute_result"
    }
   ],
   "source": [
    "next(a)"
   ]
  },
  {
   "cell_type": "code",
   "execution_count": 83,
   "id": "8588e292",
   "metadata": {},
   "outputs": [
    {
     "data": {
      "text/plain": [
       "array(2)"
      ]
     },
     "execution_count": 83,
     "metadata": {},
     "output_type": "execute_result"
    }
   ],
   "source": [
    "next(a)"
   ]
  },
  {
   "cell_type": "code",
   "execution_count": 85,
   "id": "067d5c0d",
   "metadata": {},
   "outputs": [
    {
     "data": {
      "text/plain": [
       "array(3)"
      ]
     },
     "execution_count": 85,
     "metadata": {},
     "output_type": "execute_result"
    }
   ],
   "source": [
    "next(a)"
   ]
  },
  {
   "cell_type": "markdown",
   "id": "c4d46dde",
   "metadata": {},
   "source": [
    "## 3) np.ndenumerate(): Enumeration means mentioning sequence number of somethings one by one."
   ]
  },
  {
   "cell_type": "code",
   "execution_count": 74,
   "id": "2f7f4c5c",
   "metadata": {},
   "outputs": [
    {
     "name": "stdout",
     "output_type": "stream",
     "text": [
      "0 H\n",
      "1 i\n"
     ]
    }
   ],
   "source": [
    "#### NORMAL ENUMERATE ####\n",
    "\n",
    "\n",
    "for i,j in enumerate(list(\"Hi\")):\n",
    "    print(i,j)"
   ]
  },
  {
   "cell_type": "code",
   "execution_count": 77,
   "id": "11f65db3",
   "metadata": {},
   "outputs": [
    {
     "name": "stdout",
     "output_type": "stream",
     "text": [
      "0 B\n",
      "1 Y\n",
      "2 E\n"
     ]
    }
   ],
   "source": [
    "arr=np.array(['B','Y','E'])\n",
    "for i,j in enumerate(arr):\n",
    "    print(i,j)"
   ]
  },
  {
   "cell_type": "code",
   "execution_count": null,
   "id": "8efefd81",
   "metadata": {},
   "outputs": [],
   "source": [
    "import numpy as np"
   ]
  },
  {
   "cell_type": "code",
   "execution_count": 17,
   "id": "a3e4600c",
   "metadata": {},
   "outputs": [
    {
     "name": "stdout",
     "output_type": "stream",
     "text": [
      "(0,) B\n",
      "(1,) Y\n",
      "(2,) E\n"
     ]
    }
   ],
   "source": [
    "arr=np.array(['B','Y','E'])\n",
    "for i,j in np.ndenumerate(arr):\n",
    "    print(i,j)"
   ]
  },
  {
   "cell_type": "markdown",
   "id": "5f552c6e",
   "metadata": {},
   "source": [
    "## 4) zeros(): Return an Array with all zero elements\n",
    "- Syntax:\n",
    " - np.zeros(shape,dtype=float/int/complex)\n",
    "- Weight Initialization\n",
    "- Target Column creation"
   ]
  },
  {
   "cell_type": "code",
   "execution_count": 8,
   "id": "6d1a1afe",
   "metadata": {},
   "outputs": [
    {
     "data": {
      "text/plain": [
       "array([0, 0, 0])"
      ]
     },
     "execution_count": 8,
     "metadata": {},
     "output_type": "execute_result"
    }
   ],
   "source": [
    "np.zeros(3,int)"
   ]
  },
  {
   "cell_type": "code",
   "execution_count": 9,
   "id": "5a76902a",
   "metadata": {},
   "outputs": [
    {
     "data": {
      "text/plain": [
       "array([[0, 0, 0],\n",
       "       [0, 0, 0]])"
      ]
     },
     "execution_count": 9,
     "metadata": {},
     "output_type": "execute_result"
    }
   ],
   "source": [
    "arr=np.zeros((2,3),int)\n",
    "arr"
   ]
  },
  {
   "cell_type": "code",
   "execution_count": 10,
   "id": "02de7b1c",
   "metadata": {},
   "outputs": [],
   "source": [
    "import pandas as pd    #data analysis"
   ]
  },
  {
   "cell_type": "code",
   "execution_count": 11,
   "id": "2df2ae4c",
   "metadata": {},
   "outputs": [
    {
     "data": {
      "text/html": [
       "<div>\n",
       "<style scoped>\n",
       "    .dataframe tbody tr th:only-of-type {\n",
       "        vertical-align: middle;\n",
       "    }\n",
       "\n",
       "    .dataframe tbody tr th {\n",
       "        vertical-align: top;\n",
       "    }\n",
       "\n",
       "    .dataframe thead th {\n",
       "        text-align: right;\n",
       "    }\n",
       "</style>\n",
       "<table border=\"1\" class=\"dataframe\">\n",
       "  <thead>\n",
       "    <tr style=\"text-align: right;\">\n",
       "      <th></th>\n",
       "      <th>Zero_Calculation</th>\n",
       "    </tr>\n",
       "  </thead>\n",
       "  <tbody>\n",
       "    <tr>\n",
       "      <th>0</th>\n",
       "      <td>0</td>\n",
       "    </tr>\n",
       "    <tr>\n",
       "      <th>1</th>\n",
       "      <td>0</td>\n",
       "    </tr>\n",
       "    <tr>\n",
       "      <th>2</th>\n",
       "      <td>0</td>\n",
       "    </tr>\n",
       "  </tbody>\n",
       "</table>\n",
       "</div>"
      ],
      "text/plain": [
       "   Zero_Calculation\n",
       "0                 0\n",
       "1                 0\n",
       "2                 0"
      ]
     },
     "execution_count": 11,
     "metadata": {},
     "output_type": "execute_result"
    }
   ],
   "source": [
    "df=pd.DataFrame(\n",
    "    {\n",
    "        'Zero_Calculation':np.zeros(3,int)\n",
    "    }\n",
    ")\n",
    "df"
   ]
  },
  {
   "cell_type": "markdown",
   "id": "62a1d7fa",
   "metadata": {},
   "source": [
    "## 5) ones(): Return an array with all elements as one\n",
    "- Syntax:\n",
    " - np.ones(shape,dtype=float/int/complex)"
   ]
  },
  {
   "cell_type": "code",
   "execution_count": 12,
   "id": "ebc91302",
   "metadata": {},
   "outputs": [
    {
     "data": {
      "text/plain": [
       "array([1, 1, 1])"
      ]
     },
     "execution_count": 12,
     "metadata": {},
     "output_type": "execute_result"
    }
   ],
   "source": [
    "arr=np.ones(3,int)\n",
    "arr"
   ]
  },
  {
   "cell_type": "markdown",
   "id": "666e1e29",
   "metadata": {},
   "source": [
    "## 6) arange(): NumPy arange() is one of the array creation routines based on numerical ranges"
   ]
  },
  {
   "cell_type": "code",
   "execution_count": 13,
   "id": "3c9e41f5",
   "metadata": {},
   "outputs": [
    {
     "data": {
      "text/plain": [
       "array([0, 1, 2, 3, 4])"
      ]
     },
     "execution_count": 13,
     "metadata": {},
     "output_type": "execute_result"
    }
   ],
   "source": [
    "arr=np.arange(5)\n",
    "arr"
   ]
  },
  {
   "cell_type": "code",
   "execution_count": 14,
   "id": "3609e8ff",
   "metadata": {},
   "outputs": [
    {
     "data": {
      "text/plain": [
       "array([1])"
      ]
     },
     "execution_count": 14,
     "metadata": {},
     "output_type": "execute_result"
    }
   ],
   "source": [
    "arr=np.arange(1,2,2)\n",
    "arr"
   ]
  },
  {
   "cell_type": "code",
   "execution_count": 15,
   "id": "2d2293de",
   "metadata": {},
   "outputs": [
    {
     "data": {
      "text/plain": [
       "array([0, 1, 2, 3, 4, 5, 6, 7, 8, 9])"
      ]
     },
     "execution_count": 15,
     "metadata": {},
     "output_type": "execute_result"
    }
   ],
   "source": [
    "arr=np.arange(10)\n",
    "arr"
   ]
  },
  {
   "cell_type": "code",
   "execution_count": 16,
   "id": "15770ff4",
   "metadata": {},
   "outputs": [
    {
     "data": {
      "text/plain": [
       "array([1, 3, 5])"
      ]
     },
     "execution_count": 16,
     "metadata": {},
     "output_type": "execute_result"
    }
   ],
   "source": [
    "arr=np.arange(1,6,2)\n",
    "arr"
   ]
  },
  {
   "cell_type": "markdown",
   "id": "977b0a61",
   "metadata": {},
   "source": [
    "## 7) linspace(): Returns evenly spaced values\n",
    "- Syntax:\n",
    " - np.linspace(start,end,num = 50)"
   ]
  },
  {
   "cell_type": "code",
   "execution_count": 17,
   "id": "cd5902c3",
   "metadata": {},
   "outputs": [
    {
     "data": {
      "text/plain": [
       "array([ 1.,  2.,  3.,  4.,  5.,  6.,  7.,  8.,  9., 10.])"
      ]
     },
     "execution_count": 17,
     "metadata": {},
     "output_type": "execute_result"
    }
   ],
   "source": [
    "arr=np.linspace(1,10,num=10)\n",
    "arr"
   ]
  },
  {
   "cell_type": "code",
   "execution_count": 18,
   "id": "65bd155d",
   "metadata": {},
   "outputs": [
    {
     "data": {
      "text/plain": [
       "array([ 2. ,  2.9,  3.8,  4.7,  5.6,  6.5,  7.4,  8.3,  9.2, 10.1, 11. ])"
      ]
     },
     "execution_count": 18,
     "metadata": {},
     "output_type": "execute_result"
    }
   ],
   "source": [
    "arr=np.linspace(2,11,num=11)\n",
    "arr"
   ]
  },
  {
   "cell_type": "code",
   "execution_count": 19,
   "id": "95b1d883",
   "metadata": {},
   "outputs": [
    {
     "data": {
      "text/plain": [
       "array([2.        , 2.22222222, 2.44444444, 2.66666667, 2.88888889,\n",
       "       3.11111111, 3.33333333, 3.55555556, 3.77777778, 4.        ])"
      ]
     },
     "execution_count": 19,
     "metadata": {},
     "output_type": "execute_result"
    }
   ],
   "source": [
    "arr=np.linspace(2,4,num=10)\n",
    "arr"
   ]
  },
  {
   "cell_type": "markdown",
   "id": "d50bbe6d",
   "metadata": {},
   "source": [
    "## 8) eye(): It will return an array with ones on diagonal and zeros elsewhere\n",
    "- Syntax:\n",
    " - np.eye(shape,dtype=int/float/complex) # by default it is float"
   ]
  },
  {
   "cell_type": "code",
   "execution_count": 20,
   "id": "b4ad374f",
   "metadata": {},
   "outputs": [
    {
     "data": {
      "text/plain": [
       "array([[1., 0., 0.],\n",
       "       [0., 1., 0.],\n",
       "       [0., 0., 1.]])"
      ]
     },
     "execution_count": 20,
     "metadata": {},
     "output_type": "execute_result"
    }
   ],
   "source": [
    "arr=np.eye(3)\n",
    "arr"
   ]
  },
  {
   "cell_type": "code",
   "execution_count": 21,
   "id": "55c8729a",
   "metadata": {},
   "outputs": [
    {
     "data": {
      "text/plain": [
       "array([[1., 0.],\n",
       "       [0., 1.],\n",
       "       [0., 0.]])"
      ]
     },
     "execution_count": 21,
     "metadata": {},
     "output_type": "execute_result"
    }
   ],
   "source": [
    "arr=np.eye(3,2)\n",
    "arr"
   ]
  },
  {
   "cell_type": "code",
   "execution_count": 22,
   "id": "e7b75b4a",
   "metadata": {},
   "outputs": [
    {
     "data": {
      "text/plain": [
       "array([[1.+0.j, 0.+0.j, 0.+0.j],\n",
       "       [0.+0.j, 1.+0.j, 0.+0.j],\n",
       "       [0.+0.j, 0.+0.j, 1.+0.j]])"
      ]
     },
     "execution_count": 22,
     "metadata": {},
     "output_type": "execute_result"
    }
   ],
   "source": [
    "arr=np.eye(3,dtype=complex)\n",
    "arr"
   ]
  },
  {
   "cell_type": "markdown",
   "id": "63d3e523",
   "metadata": {},
   "source": [
    "## 9) identity(): Identity matrix will be returned (i.e No of Column = No of Rows)\n",
    "- Syntax:\n",
    " - np.identity(value) # by default float value is there in ans"
   ]
  },
  {
   "cell_type": "code",
   "execution_count": 23,
   "id": "de5febd2",
   "metadata": {},
   "outputs": [
    {
     "data": {
      "text/plain": [
       "array([[1., 0., 0., 0.],\n",
       "       [0., 1., 0., 0.],\n",
       "       [0., 0., 1., 0.],\n",
       "       [0., 0., 0., 1.]])"
      ]
     },
     "execution_count": 23,
     "metadata": {},
     "output_type": "execute_result"
    }
   ],
   "source": [
    "arr=np.identity(4)\n",
    "arr"
   ]
  },
  {
   "cell_type": "code",
   "execution_count": 19,
   "id": "48a404e4",
   "metadata": {},
   "outputs": [
    {
     "ename": "TypeError",
     "evalue": "Cannot interpret '3' as a data type",
     "output_type": "error",
     "traceback": [
      "\u001b[1;31m---------------------------------------------------------------------------\u001b[0m",
      "\u001b[1;31mTypeError\u001b[0m                                 Traceback (most recent call last)",
      "Cell \u001b[1;32mIn[19], line 1\u001b[0m\n\u001b[1;32m----> 1\u001b[0m arr\u001b[38;5;241m=\u001b[39mnp\u001b[38;5;241m.\u001b[39midentity(\u001b[38;5;241m4\u001b[39m,\u001b[38;5;241m3\u001b[39m)\n\u001b[0;32m      2\u001b[0m arr\n",
      "File \u001b[1;32m~\\anaconda3\\Lib\\site-packages\\numpy\\core\\numeric.py:2160\u001b[0m, in \u001b[0;36midentity\u001b[1;34m(n, dtype, like)\u001b[0m\n\u001b[0;32m   2157\u001b[0m     \u001b[38;5;28;01mreturn\u001b[39;00m _identity_with_like(like, n, dtype\u001b[38;5;241m=\u001b[39mdtype)\n\u001b[0;32m   2159\u001b[0m \u001b[38;5;28;01mfrom\u001b[39;00m \u001b[38;5;21;01mnumpy\u001b[39;00m \u001b[38;5;28;01mimport\u001b[39;00m eye\n\u001b[1;32m-> 2160\u001b[0m \u001b[38;5;28;01mreturn\u001b[39;00m eye(n, dtype\u001b[38;5;241m=\u001b[39mdtype, like\u001b[38;5;241m=\u001b[39mlike)\n",
      "File \u001b[1;32m~\\anaconda3\\Lib\\site-packages\\numpy\\lib\\twodim_base.py:211\u001b[0m, in \u001b[0;36meye\u001b[1;34m(N, M, k, dtype, order, like)\u001b[0m\n\u001b[0;32m    209\u001b[0m \u001b[38;5;28;01mif\u001b[39;00m M \u001b[38;5;129;01mis\u001b[39;00m \u001b[38;5;28;01mNone\u001b[39;00m:\n\u001b[0;32m    210\u001b[0m     M \u001b[38;5;241m=\u001b[39m N\n\u001b[1;32m--> 211\u001b[0m m \u001b[38;5;241m=\u001b[39m zeros((N, M), dtype\u001b[38;5;241m=\u001b[39mdtype, order\u001b[38;5;241m=\u001b[39morder)\n\u001b[0;32m    212\u001b[0m \u001b[38;5;28;01mif\u001b[39;00m k \u001b[38;5;241m>\u001b[39m\u001b[38;5;241m=\u001b[39m M:\n\u001b[0;32m    213\u001b[0m     \u001b[38;5;28;01mreturn\u001b[39;00m m\n",
      "\u001b[1;31mTypeError\u001b[0m: Cannot interpret '3' as a data type"
     ]
    }
   ],
   "source": [
    "arr=np.identity(4,3)\n",
    "arr"
   ]
  },
  {
   "cell_type": "code",
   "execution_count": 21,
   "id": "cbc6f433",
   "metadata": {},
   "outputs": [
    {
     "data": {
      "text/plain": [
       "array([[1, 0, 0],\n",
       "       [0, 1, 0],\n",
       "       [0, 0, 1]])"
      ]
     },
     "execution_count": 21,
     "metadata": {},
     "output_type": "execute_result"
    }
   ],
   "source": [
    "arr=np.identity(3,int)\n",
    "arr"
   ]
  },
  {
   "cell_type": "markdown",
   "id": "81e62d60",
   "metadata": {},
   "source": [
    "## 10) Random: Used to generate random values of array\n",
    "- i) rand()\n",
    "- ii) randint()\n",
    "- iii) randn()\n",
    "- iv) randf()"
   ]
  },
  {
   "cell_type": "markdown",
   "id": "5be581ef",
   "metadata": {},
   "source": [
    "## i) rand(): It will return values between 0 and 1\n",
    "- Syntax:\n",
    " - np.random.rand(value)"
   ]
  },
  {
   "cell_type": "code",
   "execution_count": 23,
   "id": "7d876431",
   "metadata": {},
   "outputs": [
    {
     "data": {
      "text/plain": [
       "array([0.87459202, 0.90950015, 0.73424085, 0.90584277])"
      ]
     },
     "execution_count": 23,
     "metadata": {},
     "output_type": "execute_result"
    }
   ],
   "source": [
    "arr=np.random.rand(4)\n",
    "arr"
   ]
  },
  {
   "cell_type": "code",
   "execution_count": 87,
   "id": "f3819a51",
   "metadata": {},
   "outputs": [
    {
     "data": {
      "text/plain": [
       "array([[0.60429779, 0.63728591],\n",
       "       [0.03033291, 0.59071152],\n",
       "       [0.69809055, 0.02435099]])"
      ]
     },
     "execution_count": 87,
     "metadata": {},
     "output_type": "execute_result"
    }
   ],
   "source": [
    "arr=np.random.rand(3,2)\n",
    "arr"
   ]
  },
  {
   "cell_type": "code",
   "execution_count": null,
   "id": "f207d7fd",
   "metadata": {},
   "outputs": [],
   "source": [
    "import pandas as pd\n",
    "df=pd.DataFrame(arr)\n",
    "df"
   ]
  },
  {
   "cell_type": "markdown",
   "id": "553d9f36",
   "metadata": {},
   "source": [
    "## ii) randint(): The randint() method takes a size parameter where you can specify the shape of an array\n",
    "- Syntax:\n",
    " - np.random.randint(shape,size=(value))"
   ]
  },
  {
   "cell_type": "code",
   "execution_count": 89,
   "id": "e7b1aa8c",
   "metadata": {},
   "outputs": [
    {
     "data": {
      "text/plain": [
       "array([1, 2, 1, 1])"
      ]
     },
     "execution_count": 89,
     "metadata": {},
     "output_type": "execute_result"
    }
   ],
   "source": [
    "arr=np.random.randint(1,3,size=4)\n",
    "arr"
   ]
  },
  {
   "cell_type": "code",
   "execution_count": null,
   "id": "2aedbc13",
   "metadata": {},
   "outputs": [],
   "source": [
    "arr=np.random.randint(1,10,size=(3,5))\n",
    "arr"
   ]
  },
  {
   "cell_type": "markdown",
   "id": "4daf43a7",
   "metadata": {},
   "source": [
    "## iii) randn(): It will return values which are normally distributed\n",
    "- mean = 0 and variance = 1\n",
    "- Syntax:\n",
    " - np.random.randn(shape)"
   ]
  },
  {
   "cell_type": "code",
   "execution_count": 91,
   "id": "a104f897",
   "metadata": {},
   "outputs": [
    {
     "data": {
      "text/plain": [
       "array([[ 1.61405072,  2.12911754,  0.3914444 ],\n",
       "       [-1.02710089, -0.81277181, -1.271984  ]])"
      ]
     },
     "execution_count": 91,
     "metadata": {},
     "output_type": "execute_result"
    }
   ],
   "source": [
    "arr=np.random.randn(2,3)\n",
    "arr"
   ]
  },
  {
   "cell_type": "markdown",
   "id": "e6fb3b78",
   "metadata": {},
   "source": [
    "## iv) ranf(): Return values between 0 and 1\n",
    "- Syntax:\n",
    " - np.random.ranf(shape)"
   ]
  },
  {
   "cell_type": "code",
   "execution_count": 93,
   "id": "5db10a1f",
   "metadata": {},
   "outputs": [
    {
     "data": {
      "text/plain": [
       "array([0.96012534, 0.57045021, 0.12954616])"
      ]
     },
     "execution_count": 93,
     "metadata": {},
     "output_type": "execute_result"
    }
   ],
   "source": [
    "arr=np.random.ranf(3)\n",
    "arr"
   ]
  },
  {
   "cell_type": "markdown",
   "id": "c9df0dc7",
   "metadata": {},
   "source": [
    "## 11) sort(): Sorting means putting elements in an ordered sequence.\n",
    "- Syntax:\n",
    " - np.sort(name)\n",
    "- axis 0--> Columns\n",
    "- axis 1--> Rows"
   ]
  },
  {
   "cell_type": "code",
   "execution_count": 96,
   "id": "53d5fa91",
   "metadata": {},
   "outputs": [
    {
     "data": {
      "text/plain": [
       "array([5, 1, 3, 7, 3])"
      ]
     },
     "execution_count": 96,
     "metadata": {},
     "output_type": "execute_result"
    }
   ],
   "source": [
    "arr=np.random.randint(1,10,size=5)\n",
    "arr"
   ]
  },
  {
   "cell_type": "code",
   "execution_count": 98,
   "id": "33600b79",
   "metadata": {},
   "outputs": [
    {
     "data": {
      "text/plain": [
       "array([1, 3, 3, 5, 7])"
      ]
     },
     "execution_count": 98,
     "metadata": {},
     "output_type": "execute_result"
    }
   ],
   "source": [
    "np.sort(arr)"
   ]
  },
  {
   "cell_type": "code",
   "execution_count": null,
   "id": "c0f634cc",
   "metadata": {},
   "outputs": [],
   "source": [
    "arr=np.random.randint(1,10,size=(5,2))\n",
    "arr"
   ]
  },
  {
   "cell_type": "code",
   "execution_count": null,
   "id": "44b15f50",
   "metadata": {},
   "outputs": [],
   "source": [
    "np.sort(arr,axis=0)   # axis=0 means--> Sorting by Columns"
   ]
  },
  {
   "cell_type": "code",
   "execution_count": null,
   "id": "fcefb7c1",
   "metadata": {},
   "outputs": [],
   "source": [
    "np.sort(arr,axis=1)   # axis=1 means--> Sorting by Rows"
   ]
  },
  {
   "cell_type": "markdown",
   "id": "96e92669",
   "metadata": {},
   "source": [
    "## 12) append()\n",
    "- Syntax:\n",
    " - np.append(arry1,array2,axis=None)\n",
    "- axis = 1 --> Columns\n",
    "- axis = 0 --> Rows"
   ]
  },
  {
   "cell_type": "code",
   "execution_count": null,
   "id": "c0a0a4bc",
   "metadata": {},
   "outputs": [],
   "source": [
    "arr1=np.array([1,2,3])\n",
    "arr2=np.array([4,5])\n",
    "new_arr=np.append(arr1,arr2,axis=None)\n",
    "new_arr"
   ]
  },
  {
   "cell_type": "code",
   "execution_count": null,
   "id": "6f2d00a8",
   "metadata": {},
   "outputs": [],
   "source": [
    "arr1=np.array([1,2,3])\n",
    "arr2=np.array([4,5])\n",
    "new_arr=np.append(arr1,arr2,axis=1)\n",
    "new_arr"
   ]
  },
  {
   "cell_type": "markdown",
   "id": "0a521a77",
   "metadata": {},
   "source": [
    "## 13) ceil(): The ceil() function rounds off decimal to nearest upper integer.\n",
    "- Syntax:\n",
    " - np.ceil(value)\n",
    "- 5.1 --> 6\n",
    "- 5.9 --> 6\n",
    "- 6.5 --> 7"
   ]
  },
  {
   "cell_type": "code",
   "execution_count": null,
   "id": "cb2507bc",
   "metadata": {},
   "outputs": [],
   "source": [
    "print(np.ceil(5.1))\n",
    "print(np.ceil(5.9))"
   ]
  },
  {
   "cell_type": "code",
   "execution_count": null,
   "id": "1d21415f",
   "metadata": {},
   "outputs": [],
   "source": [
    "np.array(np.ceil([1.1, 2.3, 3.6, 4.9, 5.99]),int)"
   ]
  },
  {
   "cell_type": "markdown",
   "id": "9aedd54b",
   "metadata": {},
   "source": [
    "## 14) floor(): The floor() function rounds off decimal to nearest lower integer.\n",
    "- Syntax:\n",
    " - np.floor()\n",
    "- 5.1--> 5\n",
    "- 5.9--> 5"
   ]
  },
  {
   "cell_type": "code",
   "execution_count": null,
   "id": "21efa545",
   "metadata": {},
   "outputs": [],
   "source": [
    "print(np.floor(5.1))\n",
    "print(np.floor(5.9))"
   ]
  },
  {
   "cell_type": "code",
   "execution_count": null,
   "id": "170617aa",
   "metadata": {},
   "outputs": [],
   "source": [
    "np.floor([1,2,3,4,5])"
   ]
  },
  {
   "cell_type": "code",
   "execution_count": null,
   "id": "924b5346",
   "metadata": {},
   "outputs": [],
   "source": [
    "np.array(np.floor([1,2,3,4]),int)"
   ]
  },
  {
   "cell_type": "markdown",
   "id": "d410cd06",
   "metadata": {},
   "source": [
    "## 15) around(): The around() function increments preceding digit or decimal by 1 if >=5 else do nothing.\n",
    "- Syntax:\n",
    " - np.around(value,precision=) # precision means upto what value you want your number\n",
    "- E.g. round off to 1 decimal point, 3.16666 is 3.2"
   ]
  },
  {
   "cell_type": "code",
   "execution_count": null,
   "id": "31686d34",
   "metadata": {},
   "outputs": [],
   "source": [
    "arr=np.around(2.61110,1)\n",
    "arr"
   ]
  },
  {
   "cell_type": "code",
   "execution_count": 100,
   "id": "de1b0f45",
   "metadata": {},
   "outputs": [
    {
     "data": {
      "text/plain": [
       "array([2.61, 4.57, 6.79, 8.97])"
      ]
     },
     "execution_count": 100,
     "metadata": {},
     "output_type": "execute_result"
    }
   ],
   "source": [
    "arr=np.around(np.array([2.61110,4.56789,6.7890,8.9653]),2)\n",
    "arr"
   ]
  },
  {
   "cell_type": "markdown",
   "id": "8ca0288d",
   "metadata": {},
   "source": [
    "## 16) where(): Return elements chosen from x or y depending on condition.\n",
    "- Syntax:\n",
    " - np.where(condition,[x, y, ]/)"
   ]
  },
  {
   "cell_type": "code",
   "execution_count": 102,
   "id": "688176c6",
   "metadata": {},
   "outputs": [
    {
     "name": "stdout",
     "output_type": "stream",
     "text": [
      "['P' 'y' 't' 'h' 'o' 'n' ' ' 'a' 'n' 'd' ' ' 'D' 'a' 't' 'a' ' ' 'S' 'c'\n",
      " 'i' 'e' 'n' 'c' 'e']\n",
      "(array([ 7, 12, 14], dtype=int64),)\n"
     ]
    }
   ],
   "source": [
    "str1=\"Python and Data Science\"\n",
    "arr=np.array(list(str1))\n",
    "print(arr)\n",
    "where_command=np.where(arr=='a')\n",
    "print(where_command)"
   ]
  },
  {
   "cell_type": "code",
   "execution_count": null,
   "id": "3c741673-d34e-4e4c-b991-0018255228dc",
   "metadata": {},
   "outputs": [],
   "source": []
  }
 ],
 "metadata": {
  "kernelspec": {
   "display_name": "Python 3 (ipykernel)",
   "language": "python",
   "name": "python3"
  },
  "language_info": {
   "codemirror_mode": {
    "name": "ipython",
    "version": 3
   },
   "file_extension": ".py",
   "mimetype": "text/x-python",
   "name": "python",
   "nbconvert_exporter": "python",
   "pygments_lexer": "ipython3",
   "version": "3.12.4"
  }
 },
 "nbformat": 4,
 "nbformat_minor": 5
}
