{
 "cells": [
  {
   "cell_type": "code",
   "execution_count": 2,
   "id": "ec185f79",
   "metadata": {},
   "outputs": [],
   "source": [
    "import scipy\n",
    "import numpy as np\n",
    "import pandas as pd"
   ]
  },
  {
   "cell_type": "markdown",
   "id": "1d8dd6ee",
   "metadata": {},
   "source": [
    "## 1)Scipy Constants:\n",
    "- The scipy constants package provides various constants. \n",
    "- We have to import the required constant and use them as per the requirement."
   ]
  },
  {
   "cell_type": "code",
   "execution_count": 5,
   "id": "ac7fe711",
   "metadata": {},
   "outputs": [
    {
     "name": "stdout",
     "output_type": "stream",
     "text": [
      "SciPy Function:  3.141592653589793\n"
     ]
    }
   ],
   "source": [
    "from scipy.constants import pi\n",
    "#from math import pi\n",
    "print(\"SciPy Function: \",scipy.constants.pi)"
   ]
  },
  {
   "cell_type": "markdown",
   "id": "7ed3693d",
   "metadata": {},
   "source": [
    "## 2) Constant Units:\n",
    "- A list of all units under the constants module can be seen using the dir() function."
   ]
  },
  {
   "cell_type": "code",
   "execution_count": 8,
   "id": "9b2e4137",
   "metadata": {},
   "outputs": [
    {
     "name": "stdout",
     "output_type": "stream",
     "text": [
      "['Avogadro', 'Boltzmann', 'Btu', 'Btu_IT', 'Btu_th', 'ConstantWarning', 'G', 'Julian_year', 'N_A', 'Planck', 'R', 'Rydberg', 'Stefan_Boltzmann', 'Wien', '__all__', '__builtins__', '__cached__', '__doc__', '__file__', '__loader__', '__name__', '__package__', '__path__', '__spec__', '_codata', '_constants', '_obsolete_constants', 'acre', 'alpha', 'angstrom', 'arcmin', 'arcminute', 'arcsec', 'arcsecond', 'astronomical_unit', 'atm', 'atmosphere', 'atomic_mass', 'atto', 'au', 'bar', 'barrel', 'bbl', 'blob', 'c', 'calorie', 'calorie_IT', 'calorie_th', 'carat', 'centi', 'codata', 'constants', 'convert_temperature', 'day', 'deci', 'degree', 'degree_Fahrenheit', 'deka', 'dyn', 'dyne', 'e', 'eV', 'electron_mass', 'electron_volt', 'elementary_charge', 'epsilon_0', 'erg', 'exa', 'exbi', 'femto', 'fermi', 'find', 'fine_structure', 'fluid_ounce', 'fluid_ounce_US', 'fluid_ounce_imp', 'foot', 'g', 'gallon', 'gallon_US', 'gallon_imp', 'gas_constant', 'gibi', 'giga', 'golden', 'golden_ratio', 'grain', 'gram', 'gravitational_constant', 'h', 'hbar', 'hectare', 'hecto', 'horsepower', 'hour', 'hp', 'inch', 'k', 'kgf', 'kibi', 'kilo', 'kilogram_force', 'kmh', 'knot', 'lambda2nu', 'lb', 'lbf', 'light_year', 'liter', 'litre', 'long_ton', 'm_e', 'm_n', 'm_p', 'm_u', 'mach', 'mebi', 'mega', 'metric_ton', 'micro', 'micron', 'mil', 'mile', 'milli', 'minute', 'mmHg', 'mph', 'mu_0', 'nano', 'nautical_mile', 'neutron_mass', 'nu2lambda', 'ounce', 'oz', 'parsec', 'pebi', 'peta', 'physical_constants', 'pi', 'pico', 'point', 'pound', 'pound_force', 'precision', 'proton_mass', 'psi', 'pt', 'quecto', 'quetta', 'ronna', 'ronto', 'short_ton', 'sigma', 'slinch', 'slug', 'speed_of_light', 'speed_of_sound', 'stone', 'survey_foot', 'survey_mile', 'tebi', 'tera', 'test', 'ton_TNT', 'torr', 'troy_ounce', 'troy_pound', 'u', 'unit', 'value', 'week', 'yard', 'year', 'yobi', 'yocto', 'yotta', 'zebi', 'zepto', 'zero_Celsius', 'zetta']\n"
     ]
    }
   ],
   "source": [
    "from scipy import constants\n",
    "print(dir(constants))"
   ]
  },
  {
   "cell_type": "code",
   "execution_count": 10,
   "id": "ca8d8fa0",
   "metadata": {},
   "outputs": [
    {
     "name": "stdout",
     "output_type": "stream",
     "text": [
      "1000.0\n"
     ]
    }
   ],
   "source": [
    "from scipy import constants\n",
    "print(constants.kilo)"
   ]
  },
  {
   "cell_type": "code",
   "execution_count": 12,
   "id": "14daa284",
   "metadata": {},
   "outputs": [
    {
     "name": "stdout",
     "output_type": "stream",
     "text": [
      "1024\n"
     ]
    }
   ],
   "source": [
    "from scipy import constants\n",
    "print(constants.kibi)"
   ]
  },
  {
   "cell_type": "code",
   "execution_count": 14,
   "id": "b3e19d72",
   "metadata": {},
   "outputs": [
    {
     "name": "stdout",
     "output_type": "stream",
     "text": [
      "0.001\n"
     ]
    }
   ],
   "source": [
    "from scipy import constants\n",
    "print(constants.gram)  "
   ]
  },
  {
   "cell_type": "code",
   "execution_count": 16,
   "id": "20926b35",
   "metadata": {},
   "outputs": [
    {
     "name": "stdout",
     "output_type": "stream",
     "text": [
      "0.017453292519943295\n"
     ]
    }
   ],
   "source": [
    "from scipy import constants\n",
    "print(constants.degree) "
   ]
  },
  {
   "cell_type": "code",
   "execution_count": 18,
   "id": "94209238",
   "metadata": {},
   "outputs": [
    {
     "name": "stdout",
     "output_type": "stream",
     "text": [
      "60.0\n"
     ]
    }
   ],
   "source": [
    "from scipy import constants\n",
    "print(constants.minute)  "
   ]
  },
  {
   "cell_type": "code",
   "execution_count": 20,
   "id": "eccb036f",
   "metadata": {},
   "outputs": [
    {
     "name": "stdout",
     "output_type": "stream",
     "text": [
      "3600.0\n"
     ]
    }
   ],
   "source": [
    "from scipy import constants\n",
    "print(constants.hour)  "
   ]
  },
  {
   "cell_type": "markdown",
   "id": "f75ebbf3",
   "metadata": {},
   "source": [
    "## 3) Scipy-FFT pack:\n",
    "- Fourier transformation is computed on a time domain signal to check its behaviour in the frequency domain. \n",
    "- It is used in noise processing, image processing, etc.\n",
    "- The FFT y[k] of length N of the length -N sequence x[h] is calculated by fft() and inverse transform is calculated using ifft()."
   ]
  },
  {
   "cell_type": "code",
   "execution_count": 23,
   "id": "32ecbe1c",
   "metadata": {},
   "outputs": [
    {
     "name": "stdout",
     "output_type": "stream",
     "text": [
      "[ 3.-0.j -1.-0.j]\n"
     ]
    }
   ],
   "source": [
    "from scipy.fftpack import fft\n",
    "a=np.array([1,2])\n",
    "b=fft(a)\n",
    "print(b)"
   ]
  },
  {
   "cell_type": "code",
   "execution_count": 24,
   "id": "3a90bec7",
   "metadata": {},
   "outputs": [
    {
     "name": "stdout",
     "output_type": "stream",
     "text": [
      "[15. -0.j         -2.5+3.4409548j  -2.5+0.81229924j -2.5-0.81229924j\n",
      " -2.5-3.4409548j ]\n"
     ]
    }
   ],
   "source": [
    "from scipy.fftpack import fft\n",
    "a=np.array([1,2,3,4,5])\n",
    "b=fft(a)\n",
    "print(b)"
   ]
  },
  {
   "cell_type": "markdown",
   "id": "3d2beaf6",
   "metadata": {},
   "source": [
    "## 4) Discrete Cosine Transform:\n",
    "- A DCT expresses a finite sequence of data points in terms of a sum of cosine functions oscillating at different frequencies."
   ]
  },
  {
   "cell_type": "code",
   "execution_count": 28,
   "id": "6b6950da",
   "metadata": {},
   "outputs": [
    {
     "name": "stdout",
     "output_type": "stream",
     "text": [
      "[ 3.00000000e+01 -9.95959314e+00  1.11022302e-16 -8.98055953e-01\n",
      "  8.88178420e-16]\n"
     ]
    }
   ],
   "source": [
    "from scipy.fftpack import dct\n",
    "print(dct(np.array([1,2,3,4,5])))"
   ]
  },
  {
   "cell_type": "markdown",
   "id": "1fa8962e",
   "metadata": {},
   "source": [
    "## 5) SciPy_Interpolate:\n",
    "- Interpolation is the process of finding a value between two points on a line or curve."
   ]
  },
  {
   "cell_type": "code",
   "execution_count": 30,
   "id": "86e3a790",
   "metadata": {},
   "outputs": [
    {
     "name": "stdout",
     "output_type": "stream",
     "text": [
      "[0.         0.36363636 0.72727273 1.09090909 1.45454545 1.81818182\n",
      " 2.18181818 2.54545455 2.90909091 3.27272727 3.63636364 4.        ]\n",
      "[-0.65364362 -0.61966189 -0.51077021 -0.31047698 -0.00715476  0.37976236\n",
      "  0.76715099  0.99239518  0.85886263  0.27994201 -0.52586509 -0.99582185]\n"
     ]
    },
    {
     "data": {
      "image/png": "[encoded data removed]",
      "text/plain": [
       "<Figure size 640x480 with 1 Axes>"
      ]
     },
     "metadata": {},
     "output_type": "display_data"
    }
   ],
   "source": [
    "from scipy import interpolate\n",
    "from scipy.interpolate import interp1d\n",
    "import matplotlib.pyplot as plt\n",
    "\n",
    "x=np.linspace(0,4,12)\n",
    "y=np.cos(x**2/3+4)\n",
    "print(x)\n",
    "print(y)\n",
    "f1=interp1d(x,y,kind='linear')\n",
    "f2=interp1d(x,y,kind='cubic')\n",
    "xnew=np.linspace(0,4,30)\n",
    "plt.plot(x,y,'o',xnew,f1(xnew),'-',xnew,f2(xnew))\n",
    "plt.legend(['data','linear','cubic','nearest'],loc='best')\n",
    "plt.show()"
   ]
  },
  {
   "cell_type": "markdown",
   "id": "97589d53",
   "metadata": {},
   "source": [
    "## 6) Scipy_Ndimage:\n",
    "- It is dedicated to image processing. Here, ndimage means as an n- dimensional image."
   ]
  }
 ],
 "metadata": {
  "kernelspec": {
   "display_name": "Python 3 (ipykernel)",
   "language": "python",
   "name": "python3"
  },
  "language_info": {
   "codemirror_mode": {
    "name": "ipython",
    "version": 3
   },
   "file_extension": ".py",
   "mimetype": "text/x-python",
   "name": "python",
   "nbconvert_exporter": "python",
   "pygments_lexer": "ipython3",
   "version": "3.12.4"
  }
 },
 "nbformat": 4,
 "nbformat_minor": 5
}
